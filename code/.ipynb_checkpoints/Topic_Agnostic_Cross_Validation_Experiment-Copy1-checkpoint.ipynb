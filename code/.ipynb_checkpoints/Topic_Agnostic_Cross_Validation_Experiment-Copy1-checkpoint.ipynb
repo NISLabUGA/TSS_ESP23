{
 "cells": [
  {
   "cell_type": "code",
   "execution_count": 118,
   "metadata": {},
   "outputs": [],
   "source": [
    "import pandas as pd\n",
    "import os\n",
    "import numpy as np\n",
    "import matplotlib.pyplot as plt\n",
    "from matplotlib import mlab\n",
    "from random import sample\n",
    "import math\n",
    "import pickle as pk\n",
    "from collections import Counter\n",
    "from datetime import datetime\n",
    "from sklearn.ensemble import RandomForestClassifier\n",
    "from sklearn import metrics\n",
    "from random import sample\n",
    "from sklearn.model_selection import KFold\n",
    "import numpy as np\n",
    "from sklearn.metrics import roc_auc_score, precision_score\n",
    "from sklearn.metrics import plot_roc_curve\n",
    "from sklearn.metrics import auc"
   ]
  },
  {
   "cell_type": "code",
   "execution_count": 119,
   "metadata": {},
   "outputs": [],
   "source": [
    "from nltk.stem.snowball import SnowballStemmer\n",
    "import nltk\n",
    "from sklearn.feature_extraction.text import CountVectorizer\n",
    "from sklearn.naive_bayes import GaussianNB, MultinomialNB"
   ]
  },
  {
   "cell_type": "markdown",
   "metadata": {},
   "source": [
    "### topic agnostic cv exp func"
   ]
  },
  {
   "cell_type": "code",
   "execution_count": 164,
   "metadata": {},
   "outputs": [],
   "source": [
    "# load topic map\n",
    "topic_map_path = '../data/topic_map/pos_topic_domain_map.pkl'\n",
    "topic_map = pk.load(open(topic_map_path, 'rb'))"
   ]
  },
  {
   "cell_type": "code",
   "execution_count": 165,
   "metadata": {},
   "outputs": [],
   "source": [
    "def feat_label(df):\n",
    "    feat = df.drop(['domain', 'label'], axis=1)\n",
    "    return feat.values, df.label.values\n",
    "\n",
    "def exp_data_pre(df, dom_set, count_data):\n",
    "    ser_label = df[df['domain'].isin(dom_set)]['label']\n",
    "    feat_data = count_data[df.index[df['domain'].isin(dom_set)].tolist()]\n",
    "    return feat_data, ser_label.values\n",
    "\n",
    "def tp_cv_perform_nb(df, count_data, topic_map, clf, fp_res, repeat_n, df_original):\n",
    "    tprs = []\n",
    "    threshs = []\n",
    "#     mean_fpr = np.linspace(0, 1, 200)\n",
    "    dom_list_pos = df[df.label==1]['domain'].tolist()\n",
    "    dom_list_neg = df[df.label==0]['domain'].tolist()\n",
    "\n",
    "    for t in topic_map.keys():\n",
    "        dom_test_pos = topic_map[t]\n",
    "        n_test_pos = len(dom_test_pos)\n",
    "\n",
    "        dom_train_pos = set(dom_list_pos) - set(dom_test_pos)\n",
    "        n_train_pos = len(dom_train_pos)\n",
    "\n",
    "        y_test_list = []\n",
    "        y_pre_list = []\n",
    "        for i in range(repeat_n):\n",
    "            dom_test_neg = sample(dom_list_neg, n_test_pos)\n",
    "            dom_train_neg = sample(set(dom_list_neg) - set(dom_test_neg), n_train_pos*2)\n",
    "\n",
    "            dom_train = set(dom_train_pos) | set(dom_train_neg)\n",
    "            dom_test = set(dom_test_pos) | set(dom_test_neg)\n",
    "\n",
    "            df_train = df[df['domain'].isin(dom_train)]\n",
    "            df_test = df[df['domain'].isin(dom_test)]\n",
    "\n",
    "            feature_train, label_train = feat_label(df_train)\n",
    "            feature_test, label_test = feat_label(df_test)\n",
    "            \n",
    "            import pdb; pdb.set_trace()\n",
    "            feat_tr_ori, lab_tr_ori = exp_data_pre(df_original, dom_train, count_data)\n",
    "            feat_te_ori, lab_te_ori = exp_data_pre(df_original, dom_test, count_data)\n",
    "            \n",
    "            clf.fit(feature_train, label_train)\n",
    "\n",
    "            y_pre_prob = clf.predict_proba(feature_test)[:,1]\n",
    "\n",
    "            y_test_list.append(label_test)\n",
    "            y_pre_list.append(y_pre_prob)\n",
    "\n",
    "        y_test_array = np.concatenate(y_test_list)\n",
    "        y_pre_array = np.concatenate(y_pre_list)\n",
    "\n",
    "        fpr_t, tpr_t, thresh_t = metrics.roc_curve(y_test_array, y_pre_array)\n",
    "        interp_tpr = np.interp(mean_fpr, fpr_t, tpr_t)\n",
    "        interp_tpr[0] = 0.0\n",
    "        tprs.append(interp_tpr)\n",
    "\n",
    "        interp_thr = np.interp(mean_fpr, fpr_t, thresh_t)\n",
    "        interp_thr[0] = 0.0\n",
    "        threshs.append(interp_thr)\n",
    "\n",
    "    mean_tpr = np.mean(tprs, axis=0)\n",
    "    mean_tpr[-1] = 1.0\n",
    "    mean_auc = auc(mean_fpr, mean_tpr)\n",
    "    \n",
    "    mean_fpr_100 = mean_fpr * 100\n",
    "    mean_tpr_100 = mean_tpr * 100\n",
    "\n",
    "    mean_thr = np.mean(threshs, axis=0)\n",
    "    mean_tpr[-1] = 1.0\n",
    "    i_1, = np.where(mean_fpr_100>=1.0)\n",
    "    y_1 = round(mean_tpr_100[i_1[0]])\n",
    "    \n",
    "    print(f\"thresh : {mean_thr[i_1[0]]}, mean_tpr : {y_1}\")\n",
    "   \n",
    "    res_dict = {\n",
    "                \"mean_fpr_100\": mean_fpr_100,\n",
    "                \"mean_tpr_100\": mean_tpr_100,\n",
    "                \"mean_auc\": mean_auc,\n",
    "                \"i_1\": i_1,\n",
    "                \"y_1\": y_1,\n",
    "                \"threshs\": threshs,\n",
    "                \"mean_thr\": mean_thr\n",
    "                }\n",
    "\n",
    "    with open(fp_res, 'wb') as f:\n",
    "        pk.dump(res_dict, f)\n",
    "    \n",
    "    return mean_auc, y_1"
   ]
  },
  {
   "cell_type": "markdown",
   "metadata": {},
   "source": [
    "### tp agnotic cross validation exp with taser"
   ]
  },
  {
   "cell_type": "code",
   "execution_count": 166,
   "metadata": {},
   "outputs": [],
   "source": [
    "def taser_topic_agnotic_cv(df, f_res, max_depth_x=1, n_estimators = 500, repeat_n = 3):\n",
    "    max_depth = int(df.shape[1] * max_depth_x)\n",
    "    clf = RandomForestClassifier(n_estimators=n_estimators, max_depth=max_depth, random_state=123)\n",
    "\n",
    "    return tp_cv_perform(df, topic_map, clf, f_res, repeat_n)"
   ]
  },
  {
   "cell_type": "code",
   "execution_count": 167,
   "metadata": {},
   "outputs": [
    {
     "name": "stdout",
     "output_type": "stream",
     "text": [
      "load 6 features\n",
      "load 30 features\n",
      "load 25 features\n"
     ]
    }
   ],
   "source": [
    "# load features to use\n",
    "feature_path = '../data/feature'\n",
    "featset_dict = {'pnp': 'pnp_feature.txt', \n",
    "                'bk': 'bk_feature.txt',\n",
    "                'wh': 'wh_feature.txt'}\n",
    "\n",
    "feat_list = ['domain', 'label']\n",
    "for f in os.listdir(feature_path):\n",
    "    fp_feature_name = os.path.join(feature_path, f)\n",
    "    with open(fp_feature_name, 'r') as fr:\n",
    "        feature_names = [line.strip() for line in fr if not line.startswith(\"#\")]\n",
    "    feat_list += feature_names\n",
    "    print(f\"load {len(feature_names)} features\")"
   ]
  },
  {
   "cell_type": "code",
   "execution_count": 168,
   "metadata": {},
   "outputs": [
    {
     "data": {
      "text/plain": [
       "(1500, 59)"
      ]
     },
     "execution_count": 168,
     "metadata": {},
     "output_type": "execute_result"
    }
   ],
   "source": [
    "# load dataset\n",
    "f_tr = '../data/TSS_TA_training_data.csv'\n",
    "df = pd.read_csv(f_tr, usecols=feat_list)\n",
    "df.shape"
   ]
  },
  {
   "cell_type": "code",
   "execution_count": 169,
   "metadata": {},
   "outputs": [],
   "source": [
    "f_res = '../temp/exp_res_pkl/taser_topic_agnostic_cv_result.pkl'"
   ]
  },
  {
   "cell_type": "code",
   "execution_count": 161,
   "metadata": {},
   "outputs": [
    {
     "name": "stdout",
     "output_type": "stream",
     "text": [
      "thresh : 0.6140961248821136, mean_tpr : 91\n"
     ]
    },
    {
     "data": {
      "text/plain": [
       "(0.9888361521549989, 91)"
      ]
     },
     "execution_count": 161,
     "metadata": {},
     "output_type": "execute_result"
    }
   ],
   "source": [
    "taser_topic_agnotic_cv(df, f_res, repeat_n=5)"
   ]
  },
  {
   "cell_type": "markdown",
   "metadata": {},
   "source": [
    "### tp agnotic cross validation exp with text model"
   ]
  },
  {
   "cell_type": "code",
   "execution_count": 170,
   "metadata": {},
   "outputs": [],
   "source": [
    "def tokenize_and_stem(text):\n",
    "    # first tokenize by sentence, then by word to ensure that punctuation is caught as it's own token\n",
    "    tokens = [word for sent in nltk.sent_tokenize(text) for word in nltk.word_tokenize(sent)]\n",
    "    filtered_tokens = []\n",
    "    # filter out any tokens not containing letters (e.g., numeric tokens, raw punctuation)\n",
    "    for token in tokens:\n",
    "        if re.search('[a-zA-Z]', token):\n",
    "            filtered_tokens.append(token)\n",
    "    stems = [stemmer.stem(t) for t in filtered_tokens]\n",
    "\n",
    "    stem_doc = \" \".join(stems)\n",
    "    return stem_doc"
   ]
  },
  {
   "cell_type": "code",
   "execution_count": 1,
   "metadata": {},
   "outputs": [],
   "source": [
    "def text_model_topic_agnotic_cv(df, f_res, repeat_n = 3):\n",
    "    # Initialise the count vectorizer with the English stop words\n",
    "    count_vectorizer = CountVectorizer(stop_words='english', \n",
    "                                       max_df=0.8, \n",
    "                                       max_features=10000,\n",
    "                                       min_df=0.08,\n",
    "                                       ngram_range=(1,3))\n",
    "    \n",
    "    # Fit and transform the processed titles\n",
    "    count_data = count_vectorizer.fit_transform(df['text_processed'])\n",
    "    count_data = count_data.toarray()\n",
    "    df_ct = pd.DataFrame(data=count_data.toarray(), columns=[n for n in range(count_data.shape[1])])\n",
    "    df_ct['domain'] = df['domain']\n",
    "    df_ct['label'] = df['label']\n",
    "\n",
    "    clf = MultinomialNB()\n",
    "    return tp_cv_perform_nb(df_ct, count_data, topic_map, clf, f_res, repeat_n, df)"
   ]
  },
  {
   "cell_type": "code",
   "execution_count": 172,
   "metadata": {},
   "outputs": [
    {
     "data": {
      "text/plain": [
       "(1500, 4)"
      ]
     },
     "execution_count": 172,
     "metadata": {},
     "output_type": "execute_result"
    }
   ],
   "source": [
    "# load text data\n",
    "# f_tr_txt = '../data/text_data_for_TSS_TA_training_set.csv'\n",
    "f_tr_txt = '/Users/liujienan/research/tss_2019/git_code/TSS_Detection/000_tss_topic_model_to_beat/8_for_topic_agnostic_cv/nb_model_prepared_data_for_cv_sample.csv'\n",
    "df_txt = pd.read_csv(f_tr_txt)\n",
    "df_txt = pd.read_csv(f_tr_txt)\n",
    "df_txt.shape"
   ]
  },
  {
   "cell_type": "code",
   "execution_count": 173,
   "metadata": {},
   "outputs": [
    {
     "name": "stdout",
     "output_type": "stream",
     "text": [
      "thresh : 0.8083928609558304, mean_tpr : 91\n"
     ]
    },
    {
     "data": {
      "text/plain": [
       "(0.9737221537258859, 91)"
      ]
     },
     "execution_count": 173,
     "metadata": {},
     "output_type": "execute_result"
    }
   ],
   "source": [
    "f_res_txt = '../temp/exp_res_pkl/text_model_topic_agnostic_cv_result.pkl'\n",
    "text_model_topic_agnotic_cv(df_txt, f_res_txt)"
   ]
  },
  {
   "cell_type": "markdown",
   "metadata": {},
   "source": [
    "### ROC curve plot"
   ]
  },
  {
   "cell_type": "code",
   "execution_count": 144,
   "metadata": {},
   "outputs": [],
   "source": [
    "def load_result(fp):\n",
    "    res = pk.load(open(fp, 'rb'))\n",
    "    fpr = res['mean_fpr_100']\n",
    "    tpr = res['mean_tpr_100']\n",
    "    auc = round(res['mean_auc']*100,2)\n",
    "    i_1 = res['i_1']\n",
    "    y_1 = res['y_1']\n",
    "    \n",
    "    return fpr, tpr, auc, i_1, y_1\n",
    "\n",
    "def roc_plot(f_reg,f_tp, y_lim):\n",
    "    fpr_r, tpr_r, auc_r, i_1_r, y_1_r = load_result(f_reg)\n",
    "    fpr_t, tpr_t, auc_t, i_1_t, y_1_t = load_result(f_tp)\n",
    "    \n",
    "    fig, ax = plt.subplots(figsize=(10, 8))\n",
    "    \n",
    "    ax.set_xlabel('False Positive Rate (%,log scale)', fontsize=15, weight='bold')\n",
    "    ax.set_ylabel('True Positive Rate (%)', fontsize=15, weight='bold')\n",
    "    ax.set(xlim=[0, 100], ylim=y_lim)\n",
    "    \n",
    "    ax.plot(fpr_r, tpr_r, color='blue', label=f\"TASER (AUC:{auc_r}%)\", lw=2)\n",
    "    ax.plot(fpr_t, tpr_t, color='red', label=f\"Text-based Model (AUC:{auc_t}%)\", lw=2)\n",
    "    \n",
    "    ax.set_xscale('symlog')\n",
    "    ax.set_xticks([0, 1, 10, 100], minor=False)\n",
    "    ax.set_xticklabels(['0', '1', '10', '100'], minor=False)\n",
    "    y_ticks = [y for y in range(y_lim[0], y_lim[1], 10)]\n",
    "    y_tick_labels = [str(y) for y in range(y_lim[0], y_lim[1], 10)]\n",
    "    ax.set_yticks(y_ticks, minor=False)\n",
    "    ax.set_yticklabels(y_tick_labels, minor=True)\n",
    "    \n",
    "    ax.legend(loc=\"best\", fontsize='large')\n",
    "    "
   ]
  },
  {
   "cell_type": "code",
   "execution_count": null,
   "metadata": {},
   "outputs": [],
   "source": [
    "f_reg = '../result/regular_cv_result_taser.pkl'\n",
    "f_tp = '../result/regular_cv_result_text_model.pkl'\n",
    "roc_plot(f_reg,f_tp, [60, 101])"
   ]
  },
  {
   "cell_type": "code",
   "execution_count": 151,
   "metadata": {},
   "outputs": [
    {
     "name": "stderr",
     "output_type": "stream",
     "text": [
      "/Users/liujienan/.local/lib/python3.7/site-packages/ipykernel_launcher.py:30: UserWarning: FixedFormatter should only be used together with FixedLocator\n"
     ]
    },
    {
     "data": {
      "image/png": "[encoded data removed]",
      "text/plain": [
       "<Figure size 720x576 with 1 Axes>"
      ]
     },
     "metadata": {
      "needs_background": "light"
     },
     "output_type": "display_data"
    }
   ],
   "source": [
    "f_reg = '../temp/exp_res_pkl_bk/taser_topic_agnostic_cv_result.pkl'\n",
    "f_tp = '../temp/exp_res_pkl_bk/text_model_topic_agnostic_cv_result.pkl'\n",
    "roc_plot(f_reg,f_tp, [30, 101])"
   ]
  },
  {
   "cell_type": "code",
   "execution_count": null,
   "metadata": {},
   "outputs": [],
   "source": []
  },
  {
   "cell_type": "code",
   "execution_count": null,
   "metadata": {},
   "outputs": [],
   "source": []
  },
  {
   "cell_type": "code",
   "execution_count": null,
   "metadata": {},
   "outputs": [],
   "source": []
  },
  {
   "cell_type": "code",
   "execution_count": 174,
   "metadata": {},
   "outputs": [
    {
     "data": {
      "text/plain": [
       "(2262, 4)"
      ]
     },
     "execution_count": 174,
     "metadata": {},
     "output_type": "execute_result"
    }
   ],
   "source": [
    "data_path = '/Users/liujienan/research/tss_2019/git_code/TSS_Detection/222_experiment_to_classify_tss_from_search_result_20211216/2_prep_no_tech_relate_web/000_topic_agnostic_exp_with_search_result/2_feature_for_nick_model_with_nt_domain/all_domain_label_text_for_topic_agnostic_nb_exp.csv'\n",
    "df = pd.read_csv(data_path)\n",
    "df.shape"
   ]
  },
  {
   "cell_type": "code",
   "execution_count": 177,
   "metadata": {},
   "outputs": [
    {
     "data": {
      "text/plain": [
       "0    1762\n",
       "1     500\n",
       "Name: label, dtype: int64"
      ]
     },
     "execution_count": 177,
     "metadata": {},
     "output_type": "execute_result"
    }
   ],
   "source": [
    "df.label.value_counts()"
   ]
  },
  {
   "cell_type": "code",
   "execution_count": 176,
   "metadata": {},
   "outputs": [
    {
     "data": {
      "text/plain": [
       "(500, 4)"
      ]
     },
     "execution_count": 176,
     "metadata": {},
     "output_type": "execute_result"
    }
   ],
   "source": [
    "df_new = df[df.domain.isin(df_txt.domain)]\n",
    "df_new.shape"
   ]
  },
  {
   "cell_type": "code",
   "execution_count": null,
   "metadata": {},
   "outputs": [],
   "source": []
  },
  {
   "cell_type": "code",
   "execution_count": null,
   "metadata": {},
   "outputs": [],
   "source": []
  }
 ],
 "metadata": {
  "kernelspec": {
   "display_name": "Python 3",
   "language": "python",
   "name": "python3"
  },
  "language_info": {
   "codemirror_mode": {
    "name": "ipython",
    "version": 3
   },
   "file_extension": ".py",
   "mimetype": "text/x-python",
   "name": "python",
   "nbconvert_exporter": "python",
   "pygments_lexer": "ipython3",
   "version": "3.7.9"
  }
 },
 "nbformat": 4,
 "nbformat_minor": 4
}
