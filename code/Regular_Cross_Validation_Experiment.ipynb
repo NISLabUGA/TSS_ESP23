{
 "cells": [
  {
   "cell_type": "code",
   "execution_count": 86,
   "metadata": {},
   "outputs": [],
   "source": [
    "import pandas as pd\n",
    "import os\n",
    "import numpy as np\n",
    "import matplotlib.pyplot as plt\n",
    "from matplotlib import mlab\n",
    "from random import sample\n",
    "import math\n",
    "import pickle as pk\n",
    "from collections import Counter\n",
    "from datetime import datetime\n",
    "from sklearn.ensemble import RandomForestClassifier\n",
    "from sklearn import metrics\n",
    "from random import sample\n",
    "from sklearn.model_selection import KFold\n",
    "import numpy as np\n",
    "from sklearn.metrics import roc_auc_score, precision_score\n",
    "from sklearn.metrics import plot_roc_curve\n",
    "from sklearn.metrics import auc"
   ]
  },
  {
   "cell_type": "code",
   "execution_count": 3,
   "metadata": {},
   "outputs": [],
   "source": [
    "from nltk.stem.snowball import SnowballStemmer\n",
    "import nltk\n",
    "from sklearn.feature_extraction.text import CountVectorizer\n",
    "from sklearn.naive_bayes import GaussianNB, MultinomialNB"
   ]
  },
  {
   "cell_type": "markdown",
   "metadata": {},
   "source": [
    "### load features "
   ]
  },
  {
   "cell_type": "code",
   "execution_count": 255,
   "metadata": {},
   "outputs": [],
   "source": [
    "feature_path = '../data/feature'\n",
    "featset_dict = {'pnp': 'pnp_feature.txt', \n",
    "                'bk': 'bk_feature.txt',\n",
    "                'wh': 'wh_feature.txt'}"
   ]
  },
  {
   "cell_type": "code",
   "execution_count": 256,
   "metadata": {},
   "outputs": [
    {
     "name": "stdout",
     "output_type": "stream",
     "text": [
      "load 6 features\n",
      "load 30 features\n",
      "load 25 features\n"
     ]
    }
   ],
   "source": [
    "# load features to use\n",
    "feat_list = ['label']\n",
    "for f in os.listdir(feature_path):\n",
    "    fp_feature_name = os.path.join(feature_path, f)\n",
    "    with open(fp_feature_name, 'r') as fr:\n",
    "        feature_names = [line.strip() for line in fr if not line.startswith(\"#\")]\n",
    "    feat_list += feature_names\n",
    "    print(f\"load {len(feature_names)} features\")"
   ]
  },
  {
   "cell_type": "markdown",
   "metadata": {},
   "source": [
    "### regular cv exp func"
   ]
  },
  {
   "cell_type": "code",
   "execution_count": 279,
   "metadata": {},
   "outputs": [],
   "source": [
    "def cv_exp_perform(feature_arr, label_arr, clf):\n",
    "    k_fold = KFold(10, shuffle=True)\n",
    "    res_pre_list = []\n",
    "    res_label_list = []\n",
    "    mean_fpr = np.linspace(0, 1, 200)\n",
    "    \n",
    "    print('cv start')\n",
    "    # perform 10-fold cv\n",
    "    for k, (train_idx, test_idx) in enumerate(k_fold.split(label_arr)):\n",
    "        train_x, train_y = feature_arr[train_idx], label_arr[train_idx]\n",
    "        test_x, test_y = feature_arr[test_idx], label_arr[test_idx]\n",
    "\n",
    "        clf.fit(train_x, train_y)\n",
    "        res_pre_list.append(clf.predict_proba(test_x)[:,1])\n",
    "        res_label_list.append(test_y)\n",
    "\n",
    "    # combine result\n",
    "    pre_res = np.concatenate(res_pre_list)\n",
    "    label_arr_res = np.concatenate(res_label_list)\n",
    "    \n",
    "    fpr_t, tpr_t, thresh_t = metrics.roc_curve(label_arr_res, pre_res)\n",
    "    mean_tpr = np.interp(mean_fpr, fpr_t, tpr_t)\n",
    "    mean_tpr[0] = 0.0\n",
    "\n",
    "    mean_auc = auc(mean_fpr, mean_tpr)\n",
    "    mean_fpr_100 = mean_fpr * 100\n",
    "    mean_tpr_100 = mean_tpr * 100\n",
    "    \n",
    "    i_1, = np.where(mean_fpr_100>=1.0)\n",
    "    y_1 = mean_tpr_100[i_1[0]]\n",
    "    \n",
    "    roc_res_dict = {\n",
    "            \"mean_fpr_100\": mean_fpr_100,\n",
    "            \"mean_tpr_100\": mean_tpr_100,\n",
    "            \"mean_auc\": mean_auc,\n",
    "            \"i_1\": i_1,\n",
    "            \"y_1\": y_1\n",
    "            }\n",
    "\n",
    "    return roc_res_dict"
   ]
  },
  {
   "cell_type": "markdown",
   "metadata": {},
   "source": [
    "### regular cross validation exp with taser"
   ]
  },
  {
   "cell_type": "code",
   "execution_count": 280,
   "metadata": {},
   "outputs": [
    {
     "data": {
      "text/plain": [
       "(1500, 58)"
      ]
     },
     "execution_count": 280,
     "metadata": {},
     "output_type": "execute_result"
    }
   ],
   "source": [
    "# load dataset\n",
    "f_tr = '../data/TSS_TA_training_data.csv'\n",
    "df = pd.read_csv(f_tr, usecols=feat_list)\n",
    "df.shape"
   ]
  },
  {
   "cell_type": "code",
   "execution_count": 281,
   "metadata": {},
   "outputs": [
    {
     "data": {
      "text/html": [
       "<div>\n",
       "<style scoped>\n",
       "    .dataframe tbody tr th:only-of-type {\n",
       "        vertical-align: middle;\n",
       "    }\n",
       "\n",
       "    .dataframe tbody tr th {\n",
       "        vertical-align: top;\n",
       "    }\n",
       "\n",
       "    .dataframe thead th {\n",
       "        text-align: right;\n",
       "    }\n",
       "</style>\n",
       "<table border=\"1\" class=\"dataframe\">\n",
       "  <thead>\n",
       "    <tr style=\"text-align: right;\">\n",
       "      <th></th>\n",
       "      <th>label</th>\n",
       "      <th>n_bk_dom</th>\n",
       "      <th>n_blog_dom</th>\n",
       "      <th>n_forum_dom</th>\n",
       "      <th>ptile95_contain_hp</th>\n",
       "      <th>mean_contain_hp</th>\n",
       "      <th>med_contain_hp</th>\n",
       "      <th>n_follow_url</th>\n",
       "      <th>n_nofollow_url</th>\n",
       "      <th>r_follow_url</th>\n",
       "      <th>...</th>\n",
       "      <th>pds_fp_area_rfp_mean</th>\n",
       "      <th>pds_fp_area_rvp_mean</th>\n",
       "      <th>pds_html_con_mjr_ps_max_ratio</th>\n",
       "      <th>pds_html_con_mjr_ps_en</th>\n",
       "      <th>pds_vp_mjr_ps_max_ratio</th>\n",
       "      <th>pds_vp_mjr_ps_en</th>\n",
       "      <th>pds_fp_mjr_ps_max_ratio</th>\n",
       "      <th>pds_fp_mjr_ps_en</th>\n",
       "      <th>pds_head_sum_mean</th>\n",
       "      <th>pds_title_sum_mean</th>\n",
       "    </tr>\n",
       "  </thead>\n",
       "  <tbody>\n",
       "    <tr>\n",
       "      <th>0</th>\n",
       "      <td>1</td>\n",
       "      <td>10</td>\n",
       "      <td>0</td>\n",
       "      <td>0</td>\n",
       "      <td>19.75</td>\n",
       "      <td>8.1667</td>\n",
       "      <td>5.5</td>\n",
       "      <td>6</td>\n",
       "      <td>9</td>\n",
       "      <td>0.4000</td>\n",
       "      <td>...</td>\n",
       "      <td>0.0024</td>\n",
       "      <td>0.0070</td>\n",
       "      <td>0.6724</td>\n",
       "      <td>1.3030</td>\n",
       "      <td>0.569</td>\n",
       "      <td>1.4936</td>\n",
       "      <td>0.5000</td>\n",
       "      <td>1.6769</td>\n",
       "      <td>0.8621</td>\n",
       "      <td>0.2759</td>\n",
       "    </tr>\n",
       "    <tr>\n",
       "      <th>1</th>\n",
       "      <td>1</td>\n",
       "      <td>9</td>\n",
       "      <td>0</td>\n",
       "      <td>0</td>\n",
       "      <td>23.50</td>\n",
       "      <td>6.6250</td>\n",
       "      <td>2.0</td>\n",
       "      <td>2</td>\n",
       "      <td>9</td>\n",
       "      <td>0.1818</td>\n",
       "      <td>...</td>\n",
       "      <td>0.0001</td>\n",
       "      <td>0.0002</td>\n",
       "      <td>0.7245</td>\n",
       "      <td>1.5640</td>\n",
       "      <td>0.000</td>\n",
       "      <td>0.0000</td>\n",
       "      <td>0.0000</td>\n",
       "      <td>0.4497</td>\n",
       "      <td>0.4694</td>\n",
       "      <td>0.1224</td>\n",
       "    </tr>\n",
       "    <tr>\n",
       "      <th>2</th>\n",
       "      <td>1</td>\n",
       "      <td>312</td>\n",
       "      <td>158</td>\n",
       "      <td>21</td>\n",
       "      <td>12.75</td>\n",
       "      <td>15.6195</td>\n",
       "      <td>8.0</td>\n",
       "      <td>1928</td>\n",
       "      <td>243</td>\n",
       "      <td>0.8881</td>\n",
       "      <td>...</td>\n",
       "      <td>0.0021</td>\n",
       "      <td>0.0204</td>\n",
       "      <td>1.0000</td>\n",
       "      <td>0.0000</td>\n",
       "      <td>0.000</td>\n",
       "      <td>0.0000</td>\n",
       "      <td>1.0000</td>\n",
       "      <td>0.0000</td>\n",
       "      <td>0.0000</td>\n",
       "      <td>0.0000</td>\n",
       "    </tr>\n",
       "    <tr>\n",
       "      <th>3</th>\n",
       "      <td>1</td>\n",
       "      <td>55</td>\n",
       "      <td>8</td>\n",
       "      <td>13</td>\n",
       "      <td>3.25</td>\n",
       "      <td>2.0000</td>\n",
       "      <td>1.0</td>\n",
       "      <td>171</td>\n",
       "      <td>100</td>\n",
       "      <td>0.6310</td>\n",
       "      <td>...</td>\n",
       "      <td>0.0018</td>\n",
       "      <td>0.0083</td>\n",
       "      <td>0.5000</td>\n",
       "      <td>1.9054</td>\n",
       "      <td>0.000</td>\n",
       "      <td>0.7889</td>\n",
       "      <td>0.5303</td>\n",
       "      <td>1.7734</td>\n",
       "      <td>0.1061</td>\n",
       "      <td>0.0000</td>\n",
       "    </tr>\n",
       "    <tr>\n",
       "      <th>4</th>\n",
       "      <td>1</td>\n",
       "      <td>7</td>\n",
       "      <td>0</td>\n",
       "      <td>0</td>\n",
       "      <td>6.00</td>\n",
       "      <td>4.0000</td>\n",
       "      <td>4.0</td>\n",
       "      <td>2</td>\n",
       "      <td>7</td>\n",
       "      <td>0.2222</td>\n",
       "      <td>...</td>\n",
       "      <td>0.0001</td>\n",
       "      <td>0.0004</td>\n",
       "      <td>0.8095</td>\n",
       "      <td>1.1590</td>\n",
       "      <td>0.000</td>\n",
       "      <td>0.2551</td>\n",
       "      <td>0.0000</td>\n",
       "      <td>0.1623</td>\n",
       "      <td>0.6429</td>\n",
       "      <td>0.1429</td>\n",
       "    </tr>\n",
       "  </tbody>\n",
       "</table>\n",
       "<p>5 rows × 58 columns</p>\n",
       "</div>"
      ],
      "text/plain": [
       "   label  n_bk_dom  n_blog_dom  n_forum_dom  ptile95_contain_hp  \\\n",
       "0      1        10           0            0               19.75   \n",
       "1      1         9           0            0               23.50   \n",
       "2      1       312         158           21               12.75   \n",
       "3      1        55           8           13                3.25   \n",
       "4      1         7           0            0                6.00   \n",
       "\n",
       "   mean_contain_hp  med_contain_hp  n_follow_url  n_nofollow_url  \\\n",
       "0           8.1667             5.5             6               9   \n",
       "1           6.6250             2.0             2               9   \n",
       "2          15.6195             8.0          1928             243   \n",
       "3           2.0000             1.0           171             100   \n",
       "4           4.0000             4.0             2               7   \n",
       "\n",
       "   r_follow_url  ...  pds_fp_area_rfp_mean  pds_fp_area_rvp_mean  \\\n",
       "0        0.4000  ...                0.0024                0.0070   \n",
       "1        0.1818  ...                0.0001                0.0002   \n",
       "2        0.8881  ...                0.0021                0.0204   \n",
       "3        0.6310  ...                0.0018                0.0083   \n",
       "4        0.2222  ...                0.0001                0.0004   \n",
       "\n",
       "   pds_html_con_mjr_ps_max_ratio  pds_html_con_mjr_ps_en  \\\n",
       "0                         0.6724                  1.3030   \n",
       "1                         0.7245                  1.5640   \n",
       "2                         1.0000                  0.0000   \n",
       "3                         0.5000                  1.9054   \n",
       "4                         0.8095                  1.1590   \n",
       "\n",
       "   pds_vp_mjr_ps_max_ratio  pds_vp_mjr_ps_en  pds_fp_mjr_ps_max_ratio  \\\n",
       "0                    0.569            1.4936                   0.5000   \n",
       "1                    0.000            0.0000                   0.0000   \n",
       "2                    0.000            0.0000                   1.0000   \n",
       "3                    0.000            0.7889                   0.5303   \n",
       "4                    0.000            0.2551                   0.0000   \n",
       "\n",
       "   pds_fp_mjr_ps_en  pds_head_sum_mean  pds_title_sum_mean  \n",
       "0            1.6769             0.8621              0.2759  \n",
       "1            0.4497             0.4694              0.1224  \n",
       "2            0.0000             0.0000              0.0000  \n",
       "3            1.7734             0.1061              0.0000  \n",
       "4            0.1623             0.6429              0.1429  \n",
       "\n",
       "[5 rows x 58 columns]"
      ]
     },
     "execution_count": 281,
     "metadata": {},
     "output_type": "execute_result"
    }
   ],
   "source": [
    "df.head()"
   ]
  },
  {
   "cell_type": "code",
   "execution_count": 282,
   "metadata": {},
   "outputs": [],
   "source": [
    "f_res = '../temp/exp_res_pkl/taser_regular_cv_result.pkl'"
   ]
  },
  {
   "cell_type": "code",
   "execution_count": 283,
   "metadata": {},
   "outputs": [],
   "source": [
    "def taser_regular_cv(df, f_res, max_depth_x=1, n_estimators = 500):\n",
    "    feature_arr = df.drop(['label'], axis=1).values\n",
    "    label_arr = df['label'].values\n",
    "\n",
    "    n_feature = int(feature_arr.shape[1])\n",
    "    max_depth = int(n_feature * max_depth_x)\n",
    "    clf = RandomForestClassifier(n_estimators=n_estimators, max_depth=max_depth, random_state=123)\n",
    "    res = cv_exp_perform(feature_arr, label_arr, clf)\n",
    "    with open(f_res, 'wb') as f:\n",
    "        pk.dump(res, f)\n",
    "    return res['mean_auc'], res['y_1']"
   ]
  },
  {
   "cell_type": "code",
   "execution_count": 284,
   "metadata": {},
   "outputs": [
    {
     "name": "stdout",
     "output_type": "stream",
     "text": [
      "cv start\n"
     ]
    },
    {
     "data": {
      "text/plain": [
       "(0.992710528430182, 93.4)"
      ]
     },
     "execution_count": 284,
     "metadata": {},
     "output_type": "execute_result"
    }
   ],
   "source": [
    "taser_regular_cv(df, f_res, max_depth_x=1, n_estimators = 500)"
   ]
  },
  {
   "cell_type": "markdown",
   "metadata": {},
   "source": [
    "### regular cross validation exp with text based model"
   ]
  },
  {
   "cell_type": "code",
   "execution_count": 285,
   "metadata": {},
   "outputs": [],
   "source": [
    "def tokenize_and_stem(text):\n",
    "    # first tokenize by sentence, then by word to ensure that punctuation is caught as it's own token\n",
    "    tokens = [word for sent in nltk.sent_tokenize(text) for word in nltk.word_tokenize(sent)]\n",
    "    filtered_tokens = []\n",
    "    # filter out any tokens not containing letters (e.g., numeric tokens, raw punctuation)\n",
    "    for token in tokens:\n",
    "        if re.search('[a-zA-Z]', token):\n",
    "            filtered_tokens.append(token)\n",
    "    stems = [stemmer.stem(t) for t in filtered_tokens]\n",
    "\n",
    "    stem_doc = \" \".join(stems)\n",
    "    return stem_doc"
   ]
  },
  {
   "cell_type": "code",
   "execution_count": 286,
   "metadata": {},
   "outputs": [],
   "source": [
    "def text_model_regular_cv(df, f_res, f_v_map):\n",
    "    # Initialise the count vectorizer with the English stop words\n",
    "    count_vectorizer = CountVectorizer(stop_words='english', \n",
    "                                       max_df=0.8, \n",
    "                                       max_features=5000,\n",
    "                                       min_df=0.08,\n",
    "                                       ngram_range=(1,2))\n",
    "    \n",
    "    # Fit and transform the processed titles\n",
    "    count_data = count_vectorizer.fit_transform(df['text_processed'])\n",
    "    count_data = count_data.toarray()\n",
    "    \n",
    "    # save vocabulary map for future test's usage\n",
    "    with open(f_v_map, 'wb') as f:\n",
    "        pk.dump(count_vectorizer.vocabulary_, f)\n",
    "\n",
    "    label_arr = df['label'].values\n",
    "    clf = MultinomialNB()\n",
    "    \n",
    "    res = cv_exp_perform(count_data, label_arr, clf)\n",
    "    with open(f_res, 'wb') as f:\n",
    "        pk.dump(res, f)\n",
    "    return res['mean_auc'], res['y_1']"
   ]
  },
  {
   "cell_type": "code",
   "execution_count": 287,
   "metadata": {},
   "outputs": [
    {
     "data": {
      "text/plain": [
       "(1500, 3)"
      ]
     },
     "execution_count": 287,
     "metadata": {},
     "output_type": "execute_result"
    }
   ],
   "source": [
    "# load text data\n",
    "f_tr_txt = '../data/text_data_for_TSS_TA_training_set.csv'\n",
    "df_txt = pd.read_csv(f_tr_txt)\n",
    "df_txt.shape"
   ]
  },
  {
   "cell_type": "code",
   "execution_count": 288,
   "metadata": {},
   "outputs": [
    {
     "data": {
      "text/html": [
       "<div>\n",
       "<style scoped>\n",
       "    .dataframe tbody tr th:only-of-type {\n",
       "        vertical-align: middle;\n",
       "    }\n",
       "\n",
       "    .dataframe tbody tr th {\n",
       "        vertical-align: top;\n",
       "    }\n",
       "\n",
       "    .dataframe thead th {\n",
       "        text-align: right;\n",
       "    }\n",
       "</style>\n",
       "<table border=\"1\" class=\"dataframe\">\n",
       "  <thead>\n",
       "    <tr style=\"text-align: right;\">\n",
       "      <th></th>\n",
       "      <th>domain</th>\n",
       "      <th>label</th>\n",
       "      <th>text_processed</th>\n",
       "    </tr>\n",
       "  </thead>\n",
       "  <tbody>\n",
       "    <tr>\n",
       "      <th>0</th>\n",
       "      <td>123-hp-printer.com</td>\n",
       "      <td>1</td>\n",
       "      <td>hp com setup hp officejet pro setup guid get e...</td>\n",
       "    </tr>\n",
       "    <tr>\n",
       "      <th>1</th>\n",
       "      <td>123-hp-support.co</td>\n",
       "      <td>1</td>\n",
       "      <td>hp com setup officejet pro softwar instal toll...</td>\n",
       "    </tr>\n",
       "    <tr>\n",
       "      <th>2</th>\n",
       "      <td>123-hpenvy.com</td>\n",
       "      <td>1</td>\n",
       "      <td>how to instal hp envi printer 123-hpenvi com s...</td>\n",
       "    </tr>\n",
       "    <tr>\n",
       "      <th>3</th>\n",
       "      <td>123.hpsetup.online</td>\n",
       "      <td>1</td>\n",
       "      <td>hp printer isn t print hp com setup hpsetup on...</td>\n",
       "    </tr>\n",
       "    <tr>\n",
       "      <th>4</th>\n",
       "      <td>123hp-com.com</td>\n",
       "      <td>1</td>\n",
       "      <td>hp officejet printer setup and instal sorri yo...</td>\n",
       "    </tr>\n",
       "  </tbody>\n",
       "</table>\n",
       "</div>"
      ],
      "text/plain": [
       "               domain  label  \\\n",
       "0  123-hp-printer.com      1   \n",
       "1   123-hp-support.co      1   \n",
       "2      123-hpenvy.com      1   \n",
       "3  123.hpsetup.online      1   \n",
       "4       123hp-com.com      1   \n",
       "\n",
       "                                      text_processed  \n",
       "0  hp com setup hp officejet pro setup guid get e...  \n",
       "1  hp com setup officejet pro softwar instal toll...  \n",
       "2  how to instal hp envi printer 123-hpenvi com s...  \n",
       "3  hp printer isn t print hp com setup hpsetup on...  \n",
       "4  hp officejet printer setup and instal sorri yo...  "
      ]
     },
     "execution_count": 288,
     "metadata": {},
     "output_type": "execute_result"
    }
   ],
   "source": [
    "df_txt.head()"
   ]
  },
  {
   "cell_type": "code",
   "execution_count": 289,
   "metadata": {},
   "outputs": [
    {
     "name": "stdout",
     "output_type": "stream",
     "text": [
      "cv start\n"
     ]
    },
    {
     "data": {
      "text/plain": [
       "(0.9627679820495153, 32.30437903804738)"
      ]
     },
     "execution_count": 289,
     "metadata": {},
     "output_type": "execute_result"
    }
   ],
   "source": [
    "res_path = '../temp/exp_res_pkl/text_model_regular_cv_result.pkl'\n",
    "fp_token = '../temp/exp_res_pkl/nb_clf_vocabulary_map.pkl'\n",
    "text_model_regular_cv(df_txt, res_path, fp_token)"
   ]
  },
  {
   "cell_type": "markdown",
   "metadata": {},
   "source": [
    "### ROC curve plot"
   ]
  },
  {
   "cell_type": "code",
   "execution_count": 292,
   "metadata": {},
   "outputs": [],
   "source": [
    "def roc_plot(result_path, f_res_list, y_lim):\n",
    "    res = []\n",
    "    for f in f_res_list:\n",
    "        fp = os.path.join(result_path, f[0])\n",
    "        res.append(pk.load(open(fp, 'rb')))\n",
    "\n",
    "    fig, ax = plt.subplots(figsize=(10, 8))\n",
    "    \n",
    "    ax.set_xlabel('False Positive Rate (%,log scale)', fontsize=15, weight='bold')\n",
    "    ax.set_ylabel('True Positive Rate (%)', fontsize=15, weight='bold')\n",
    "    ax.set(xlim=[0, 100], ylim=y_lim)\n",
    "    \n",
    "    for i in range(len(res)):\n",
    "        ax.plot(res[i]['mean_fpr_100'], \n",
    "                res[i]['mean_tpr_100'], \n",
    "                color=f_res_list[i][2], \n",
    "                label=f\"Leave {f_res_list[i][1]} Out (AUC:{round(res[i]['mean_auc']*100,2)}%)\", lw=2)\n",
    "    \n",
    "    ax.set_xscale('symlog')\n",
    "    ax.set_xticks([0, 1, 10, 100], minor=False)\n",
    "    ax.set_xticklabels(['0', '1', '10', '100'], minor=False)\n",
    "    y_ticks = [y for y in range(y_lim[0], y_lim[1], 10)]\n",
    "    y_tick_labels = [str(y) for y in range(y_lim[0], y_lim[1], 10)]\n",
    "    ax.set_yticks(y_ticks, minor=False)\n",
    "    ax.set_yticklabels(y_tick_labels, minor=True)\n",
    "    \n",
    "    ax.legend(loc=\"best\", fontsize='large')"
   ]
  },
  {
   "cell_type": "code",
   "execution_count": 295,
   "metadata": {},
   "outputs": [
    {
     "name": "stderr",
     "output_type": "stream",
     "text": [
      "/Users/liujienan/.local/lib/python3.7/site-packages/ipykernel_launcher.py:25: UserWarning: FixedFormatter should only be used together with FixedLocator\n"
     ]
    },
    {
     "data": {
      "image/png": "[encoded data removed]",
      "text/plain": [
       "<Figure size 720x576 with 1 Axes>"
      ]
     },
     "metadata": {
      "needs_background": "light"
     },
     "output_type": "display_data"
    }
   ],
   "source": [
    "result_path = '../result'\n",
    "f_res_list = [['regular_cv_result_taser.pkl', 'TASER', 'blue'], \n",
    "              ['regular_cv_result_text_model.pkl', 'Text-based Model', 'red']]\n",
    "roc_plot(result_path, f_res_list, [60, 101])"
   ]
  },
  {
   "cell_type": "code",
   "execution_count": 294,
   "metadata": {},
   "outputs": [
    {
     "name": "stderr",
     "output_type": "stream",
     "text": [
      "/Users/liujienan/.local/lib/python3.7/site-packages/ipykernel_launcher.py:25: UserWarning: FixedFormatter should only be used together with FixedLocator\n"
     ]
    },
    {
     "data": {
      "image/png": "[encoded data removed]",
      "text/plain": [
       "<Figure size 720x576 with 1 Axes>"
      ]
     },
     "metadata": {
      "needs_background": "light"
     },
     "output_type": "display_data"
    }
   ],
   "source": [
    "result_path = '../temp/exp_res_pkl'\n",
    "f_res_list = [['taser_regular_cv_result.pkl', 'TASER', 'blue'], \n",
    "              ['text_model_regular_cv_result.pkl', 'Text-based Model', 'red']]\n",
    "roc_plot(result_path, f_res_list, [20, 101])"
   ]
  },
  {
   "cell_type": "code",
   "execution_count": null,
   "metadata": {},
   "outputs": [],
   "source": []
  }
 ],
 "metadata": {
  "kernelspec": {
   "display_name": "Python 3",
   "language": "python",
   "name": "python3"
  },
  "language_info": {
   "codemirror_mode": {
    "name": "ipython",
    "version": 3
   },
   "file_extension": ".py",
   "mimetype": "text/x-python",
   "name": "python",
   "nbconvert_exporter": "python",
   "pygments_lexer": "ipython3",
   "version": "3.7.9"
  }
 },
 "nbformat": 4,
 "nbformat_minor": 4
}
